{
 "cells": [
  {
   "cell_type": "code",
   "execution_count": 1,
   "id": "a8ca89c1-499d-42fa-ab9e-9842220f8c87",
   "metadata": {},
   "outputs": [
    {
     "name": "stdout",
     "output_type": "stream",
     "text": [
      "Hello ENGO 645 Students\n"
     ]
    }
   ],
   "source": [
    "print(\"Hello ENGO 645 Students\")"
   ]
  },
  {
   "cell_type": "code",
   "execution_count": null,
   "id": "c1a8db77-5a13-477a-b5cb-6ee1fb8ca58f",
   "metadata": {},
   "outputs": [],
   "source": []
  }
 ],
 "metadata": {
  "kernelspec": {
   "display_name": "Python 3 (ipykernel)",
   "language": "python",
   "name": "python3"
  },
  "language_info": {
   "codemirror_mode": {
    "name": "ipython",
    "version": 3
   },
   "file_extension": ".py",
   "mimetype": "text/x-python",
   "name": "python",
   "nbconvert_exporter": "python",
   "pygments_lexer": "ipython3",
   "version": "3.11.5"
  }
 },
 "nbformat": 4,
 "nbformat_minor": 5
}
